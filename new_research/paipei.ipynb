{
 "cells": [
  {
   "cell_type": "code",
   "execution_count": 1,
   "metadata": {},
   "outputs": [],
   "source": [
    "import os\n",
    "import sys\n",
    "from osgeo import gdal, ogr\n",
    "from math import ceil\n",
    "import geopandas\n",
    "import pandas as pd\n",
    "from pyproj import Proj, transform\n",
    "import numpy as np\n",
    "from shapely.geometry import Point\n",
    "#from IPython.core.debugger import set_trace\n",
    "##python evaluation.py dank.shp -11724369.15 -11644519.67 4810066.59 4852046.60 100 100\n",
    "def create_grid(outputGridfn, xmin, xmax, ymin, ymax, gridHeight, gridWidth):\n",
    "\n",
    "    # convert sys.argv to float\n",
    "    xmin = float(xmin)\n",
    "    xmax = float(xmax)\n",
    "    ymin = float(ymin)\n",
    "    ymax = float(ymax)\n",
    "    gridWidth = float(gridWidth)\n",
    "    gridHeight = float(gridHeight)\n",
    "\n",
    "    # get rows\n",
    "    rows = ceil((ymax - ymin) / gridHeight)\n",
    "    # get columns\n",
    "    cols = ceil((xmax - xmin) / gridWidth)\n",
    "\n",
    "    # start grid cell envelope\n",
    "    ringXleftOrigin = xmin\n",
    "    ringXrightOrigin = xmin + gridWidth\n",
    "    ringYtopOrigin = ymax\n",
    "    ringYbottomOrigin = ymax - gridHeight\n",
    "\n",
    "    # create output file\n",
    "    outDriver = ogr.GetDriverByName('ESRI Shapefile')\n",
    "    if os.path.exists(outputGridfn):\n",
    "        os.remove(outputGridfn)\n",
    "    outDataSource = outDriver.CreateDataSource(outputGridfn)\n",
    "    outLayer = outDataSource.CreateLayer(\n",
    "        outputGridfn, geom_type=ogr.wkbPolygon)\n",
    "    featureDefn = outLayer.GetLayerDefn()\n",
    "\n",
    "    # create grid cells\n",
    "    countcols = 0\n",
    "    while countcols < cols:\n",
    "        countcols += 1\n",
    "\n",
    "        # reset envelope for rows\n",
    "        ringYtop = ringYtopOrigin\n",
    "        ringYbottom = ringYbottomOrigin\n",
    "        countrows = 0\n",
    "\n",
    "        while countrows < rows:\n",
    "            countrows += 1\n",
    "            ring = ogr.Geometry(ogr.wkbLinearRing)\n",
    "            ring.AddPoint(ringXleftOrigin, ringYtop)\n",
    "            ring.AddPoint(ringXrightOrigin, ringYtop)\n",
    "            ring.AddPoint(ringXrightOrigin, ringYbottom)\n",
    "            ring.AddPoint(ringXleftOrigin, ringYbottom)\n",
    "            ring.AddPoint(ringXleftOrigin, ringYtop)\n",
    "            poly = ogr.Geometry(ogr.wkbPolygon)\n",
    "            poly.AddGeometry(ring)\n",
    "\n",
    "            # add new geom to layer\n",
    "            outFeature = ogr.Feature(featureDefn)\n",
    "            outFeature.SetGeometry(poly)\n",
    "            outLayer.CreateFeature(outFeature)\n",
    "            outFeature.Destroy\n",
    "\n",
    "            # new envelope for next poly\n",
    "            ringYtop = ringYtop - gridHeight\n",
    "            ringYbottom = ringYbottom - gridHeight\n",
    "\n",
    "        # new envelope for next poly\n",
    "        ringXleftOrigin = ringXleftOrigin + gridWidth\n",
    "        ringXrightOrigin = ringXrightOrigin + gridWidth\n",
    "\n",
    "    # Close DataSources\n",
    "    outDataSource.Destroy()\n",
    "    return outDataSource\n",
    "grid = create_grid('dank.shp', -11724369.15, -11644519.67, 4810066.59, 4852046.60, 100, 100)"
   ]
  },
  {
   "cell_type": "code",
   "execution_count": 2,
   "metadata": {},
   "outputs": [],
   "source": [
    "polys = geopandas.read_file('dank.shp')\n",
    "crime_points = pd.read_csv('crime_denver_clean.csv')\n",
    "data_crime = crime_points[['GEO_LON','GEO_LAT','REPORTED_DATE']]\n",
    "inProj =  Proj(init='epsg:4326')\n",
    "outProj = Proj(init='epsg:3857')\n",
    "points = np.vectorize(transform)(inProj,outProj,data_crime['GEO_LON'], data_crime['GEO_LAT'])"
   ]
  },
  {
   "cell_type": "code",
   "execution_count": 5,
   "metadata": {},
   "outputs": [],
   "source": [
    "df = pd.DataFrame({'Longitude':points[0], 'Latitude':points[1]})\n",
    "df['Coordinates'] = list(zip(df.Longitude, df.Latitude))\n",
    "df['Coordinates'] = df['Coordinates'].apply(Point)\n",
    "points = geopandas.GeoDataFrame(df, geometry='Coordinates')"
   ]
  },
  {
   "cell_type": "code",
   "execution_count": 7,
   "metadata": {},
   "outputs": [
    {
     "name": "stdout",
     "output_type": "stream",
     "text": [
      "Warning: CRS does not match!\n"
     ]
    }
   ],
   "source": [
    "pointInPoly = geopandas.sjoin(points[['Coordinates']],polys[['geometry']] , op='within')\n",
    "counts = pointInPoly.groupby('index_right').size()\n",
    "top_polys_index=counts.sort_values(ascending=False)[:100].keys()\n",
    "top_polys = polys.iloc[top_polys_index]"
   ]
  },
  {
   "cell_type": "code",
   "execution_count": 9,
   "metadata": {},
   "outputs": [
    {
     "data": {
      "text/plain": [
       "<matplotlib.axes._subplots.AxesSubplot at 0x139b81d30>"
      ]
     },
     "execution_count": 9,
     "metadata": {},
     "output_type": "execute_result"
    },
    {
     "data": {
      "image/png": "[encoded data removed]",
      "text/plain": [
       "<matplotlib.figure.Figure at 0x139b790b8>"
      ]
     },
     "metadata": {},
     "output_type": "display_data"
    }
   ],
   "source": [
    "map_denver = top_polys.plot(figsize=(10,10))\n",
    "map_denver"
   ]
  },
  {
   "cell_type": "code",
   "execution_count": null,
   "metadata": {},
   "outputs": [],
   "source": []
  }
 ],
 "metadata": {
  "kernelspec": {
   "display_name": "Python 3",
   "language": "python",
   "name": "python3"
  },
  "language_info": {
   "codemirror_mode": {
    "name": "ipython",
    "version": 3
   },
   "file_extension": ".py",
   "mimetype": "text/x-python",
   "name": "python",
   "nbconvert_exporter": "python",
   "pygments_lexer": "ipython3",
   "version": "3.6.4"
  }
 },
 "nbformat": 4,
 "nbformat_minor": 2
}
